{
 "metadata": {
  "language_info": {
   "codemirror_mode": {
    "name": "ipython",
    "version": 3
   },
   "file_extension": ".py",
   "mimetype": "text/x-python",
   "name": "python",
   "nbconvert_exporter": "python",
   "pygments_lexer": "ipython3",
   "version": "3.9.2"
  },
  "orig_nbformat": 2,
  "kernelspec": {
   "name": "python392jvsc74a57bd0eea02655494ccfca9b943908b44a342bce2b5b6ec71a404df79d1eaeac6a6912",
   "display_name": "Python 3.9.2 64-bit"
  }
 },
 "nbformat": 4,
 "nbformat_minor": 2,
 "cells": [
  {
   "cell_type": "code",
   "execution_count": 5,
   "metadata": {},
   "outputs": [],
   "source": [
    "from pydub import AudioSegment\n",
    "import os"
   ]
  },
  {
   "cell_type": "code",
   "execution_count": 12,
   "metadata": {},
   "outputs": [],
   "source": [
    "path = 'tensorflow-speech-recognition-challenge/train/_background_noise_'\n",
    "files = [f for f in os.listdir(path) if f.split('.')[1] == 'wav']"
   ]
  },
  {
   "cell_type": "code",
   "execution_count": 17,
   "metadata": {},
   "outputs": [],
   "source": [
    "step = 100\n",
    "new_path = 'tensorflow-speech-recognition-challenge/train/audio/silence'\n",
    "for wav_file in files:\n",
    "    t1 = 0\n",
    "    t2 = t1 + 1000\n",
    "    file_count = 0\n",
    "    file_name = wav_file.split('.')[0]\n",
    "    audio = AudioSegment.from_wav(path + '/' + wav_file)\n",
    "    while t2 <= len(audio):\n",
    "        new_audio = audio[t1:t2]\n",
    "        new_audio.export(new_path + '/' + file_name + str(file_count) + '.wav', format='wav')\n",
    "        t1 += step\n",
    "        t2 += step\n",
    "        file_count += 1"
   ]
  },
  {
   "cell_type": "code",
   "execution_count": null,
   "metadata": {},
   "outputs": [],
   "source": []
  }
 ]
}